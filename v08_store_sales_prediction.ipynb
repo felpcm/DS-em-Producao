{
 "cells": [
  {
   "cell_type": "markdown",
   "id": "d234ce4f",
   "metadata": {},
   "source": [
    "# 0.0. IMPORTS"
   ]
  },
  {
   "cell_type": "code",
   "execution_count": null,
   "id": "70615d70",
   "metadata": {
    "ExecuteTime": {
     "start_time": "2023-01-19T22:18:47.299Z"
    }
   },
   "outputs": [],
   "source": [
    "import pandas as pd\n",
    "import inflection\n",
    "import math\n",
    "import numpy as np\n",
    "import datetime\n",
    "import seaborn as sns\n",
    "import xgboost as xgb\n",
    "import warnings\n",
    "import random\n",
    "import pickle\n",
    "\n",
    "from boruta                import BorutaPy\n",
    "from matplotlib            import pyplot as plt\n",
    "from IPython.core.display  import HTML\n",
    "from IPython.display       import Image\n",
    "from matplotlib            import gridspec\n",
    "from scipy                 import stats as ss\n",
    "\n",
    "from sklearn.preprocessing import RobustScaler, MinMaxScaler, LabelEncoder\n",
    "from sklearn.ensemble      import RandomForestRegressor\n",
    "from sklearn.metrics       import mean_absolute_error, mean_absolute_percentage_error, mean_squared_error\n",
    "from sklearn.linear_model  import LinearRegression, Lasso\n",
    "\n",
    "warnings.filterwarnings( 'ignore' )"
   ]
  },
  {
   "cell_type": "markdown",
   "id": "15075c0c",
   "metadata": {},
   "source": [
    "## 0.1. Helper Functions"
   ]
  },
  {
   "cell_type": "code",
   "execution_count": null,
   "id": "e0cdb8d0",
   "metadata": {
    "ExecuteTime": {
     "start_time": "2023-01-19T22:18:47.303Z"
    }
   },
   "outputs": [],
   "source": [
    "def cross_validation (x_training, kfold, model_name, model, verbose=False):\n",
    "    mae_list = []\n",
    "    mape_list = []\n",
    "    rmse_list = []\n",
    "    for k in reversed(range(1, kfold+1)):\n",
    "        if verbose:\n",
    "            print('\\nKFold Number: {}'.format(k))\n",
    "        # start and end date for validation\n",
    "        validation_start_date = x_training['date'].max() - datetime.timedelta(days = k*6*7)\n",
    "        validation_end_date = x_training['date'].max() - datetime.timedelta(days = (k-1)*6*7)\n",
    "\n",
    "        # filtering dataset\n",
    "        training = x_training[x_training['date'] < validation_start_date]\n",
    "        validation = x_training[(x_training['date'] >= validation_start_date) & (x_training['date'] <= validation_end_date)]\n",
    "\n",
    "        # training and validation dataset\n",
    "        # training\n",
    "        xtraining = training.drop(['date', 'sales'], axis = 1)\n",
    "        ytraining = training['sales']\n",
    "\n",
    "        # validation\n",
    "        xvalidation = validation.drop(['date', 'sales'], axis = 1)\n",
    "        yvalidation = validation['sales']\n",
    "\n",
    "        # model\n",
    "        m = model.fit(xtraining, ytraining)\n",
    "\n",
    "        # prediction\n",
    "        yhat = m.predict(xvalidation)\n",
    "\n",
    "        # performance\n",
    "        m_result = ml_error(model_name, np.expm1(yvalidation), np.expm1(yhat))\n",
    "\n",
    "        # store performance of each kfold iteration\n",
    "        mae_list.append(m_result['MAE'])\n",
    "        mape_list.append(m_result['MAPE'])\n",
    "        rmse_list.append(m_result['RMSE'])\n",
    "\n",
    "    return pd.DataFrame({'Model Name': model_name,\n",
    "                         'MAE CV': np.round(np.mean(mae_list), 2).astype(str) + ' +/- ' + np.round(np.std(mae_list), 2).astype(str),\n",
    "                         'MAPE CV': np.round(np.mean(mape_list), 2).astype(str) + ' +/- ' + np.round(np.std(mape_list), 2).astype(str),\n",
    "                         'RMSE CV': np.round(np.mean(rmse_list), 2).astype(str) + ' +/- ' + np.round(np.std(rmse_list), 2).astype(str)},index= [0])\n",
    "\n",
    "\n",
    "def mean_percentage_error( y, yhat ):\n",
    "    return np.mean( ( y - yhat ) / y )\n",
    "\n",
    "\n",
    "def ml_error(model_name, y, yhat):\n",
    "    mae = mean_absolute_error(y, yhat )\n",
    "    mape = mean_absolute_percentage_error(y, yhat )\n",
    "    rmse = np.sqrt(mean_squared_error(y, yhat ))\n",
    "    \n",
    "    return pd.DataFrame({ 'Model Name': model_name,\n",
    "                          'MAE': mae,\n",
    "                          'MAPE': mape,\n",
    "                          'RMSE': rmse }, index=[0])\n",
    "\n",
    "\n",
    "def cramer_v( x, y ):\n",
    "    cm = pd.crosstab( x, y ).values\n",
    "    n = cm.sum()\n",
    "    r, k = cm.shape\n",
    "    \n",
    "    chi2 = ss.chi2_contingency( cm )[0]\n",
    "    chi2corr = max( 0, chi2 - (k-1)*(r-1)/(n-1) )\n",
    "    \n",
    "    kcorr = k - (k-1)**2/(n-1)\n",
    "    rcorr = r - (r-1)**2/(n-1)\n",
    "    \n",
    "    return np.sqrt( (chi2corr/n) / ( min( kcorr-1, rcorr-1 ) ) )\n",
    "\n",
    "\n",
    "def jupyter_settings():\n",
    "    %matplotlib inline\n",
    "    #%pylab inline\n",
    "    \n",
    "    plt.style.use( 'bmh' )\n",
    "    plt.rcParams['figure.figsize'] = (18,9)\n",
    "    #plt.rcParams['font.size'] = 24\n",
    "    display( HTML( '<style>.container { width:100% !important; }</style>') )\n",
    "    pd.options.display.max_columns = None\n",
    "    pd.options.display.max_rows = None\n",
    "    pd.set_option( 'display.expand_frame_repr', False )\n",
    "    \n",
    "    sns.set()"
   ]
  },
  {
   "cell_type": "code",
   "execution_count": null,
   "id": "2e25c14e",
   "metadata": {
    "ExecuteTime": {
     "start_time": "2023-01-19T22:18:47.306Z"
    }
   },
   "outputs": [],
   "source": [
    "jupyter_settings()"
   ]
  },
  {
   "cell_type": "markdown",
   "id": "8b86020c",
   "metadata": {
    "heading_collapsed": true
   },
   "source": [
    "## 0.2. Loading Data"
   ]
  },
  {
   "cell_type": "code",
   "execution_count": null,
   "id": "02bf1845",
   "metadata": {
    "ExecuteTime": {
     "start_time": "2023-01-19T22:18:47.310Z"
    },
    "hidden": true
   },
   "outputs": [],
   "source": [
    "df_sales_raw = pd.read_csv('data/train.csv', low_memory=False)\n",
    "df_store_raw = pd.read_csv('data/store.csv', low_memory=False)\n",
    "\n",
    "df_raw = pd.merge(df_sales_raw, df_store_raw, how='left', on='Store')\n"
   ]
  },
  {
   "cell_type": "code",
   "execution_count": null,
   "id": "a7ff4090",
   "metadata": {
    "ExecuteTime": {
     "start_time": "2023-01-19T22:18:47.313Z"
    },
    "hidden": true
   },
   "outputs": [],
   "source": [
    "df_raw.sample()"
   ]
  },
  {
   "cell_type": "markdown",
   "id": "786f729c",
   "metadata": {
    "heading_collapsed": true
   },
   "source": [
    "# 1.0. DESCRICAO DOS DADOS"
   ]
  },
  {
   "cell_type": "code",
   "execution_count": null,
   "id": "347f2a6b",
   "metadata": {
    "ExecuteTime": {
     "start_time": "2023-01-19T22:18:47.316Z"
    },
    "hidden": true
   },
   "outputs": [],
   "source": [
    "# no comeco de cada seção fazer uma copia do dataset\n",
    "df1 = df_raw.copy()"
   ]
  },
  {
   "cell_type": "markdown",
   "id": "55fd7e18",
   "metadata": {
    "ExecuteTime": {
     "end_time": "2022-08-30T00:37:50.311618Z",
     "start_time": "2022-08-30T00:37:50.291331Z"
    },
    "hidden": true
   },
   "source": [
    "## 1.1 Rename Columns"
   ]
  },
  {
   "cell_type": "code",
   "execution_count": null,
   "id": "0b29b592",
   "metadata": {
    "ExecuteTime": {
     "start_time": "2023-01-19T22:18:47.320Z"
    },
    "hidden": true
   },
   "outputs": [],
   "source": [
    "cols_old = ['Store', 'DayOfWeek', 'Date', 'Sales', 'Customers', 'Open', 'Promo', 'StateHoliday', 'SchoolHoliday', 'StoreType', 'Assortment', 'CompetitionDistance', 'CompetitionOpenSinceMonth', 'CompetitionOpenSinceYear', 'Promo2', 'Promo2SinceWeek', 'Promo2SinceYear', 'PromoInterval']\n",
    "\n",
    "# transformar o formato dos nomes das colunas de camelcase para snakecase\n",
    "snakecase = lambda x: inflection.underscore(x)\n",
    "\n",
    "cols_new = list(map(snakecase, cols_old))\n",
    "\n",
    "#rename\n",
    "df1.columns = cols_new"
   ]
  },
  {
   "cell_type": "markdown",
   "id": "3e46db66",
   "metadata": {
    "hidden": true
   },
   "source": [
    "## 1.2 Data Dimensions"
   ]
  },
  {
   "cell_type": "code",
   "execution_count": null,
   "id": "10cd8fb1",
   "metadata": {
    "ExecuteTime": {
     "start_time": "2023-01-19T22:18:47.322Z"
    },
    "hidden": true
   },
   "outputs": [],
   "source": [
    "print('Number of Rows: {}'.format(df1.shape[0]))\n",
    "print('Number of Columns: {}'.format(df1.shape[1]))"
   ]
  },
  {
   "cell_type": "markdown",
   "id": "c0b6da5e",
   "metadata": {
    "hidden": true
   },
   "source": [
    "## 1.3 Data Types"
   ]
  },
  {
   "cell_type": "code",
   "execution_count": null,
   "id": "1c2da8c2",
   "metadata": {
    "ExecuteTime": {
     "start_time": "2023-01-19T22:18:47.325Z"
    },
    "hidden": true,
    "scrolled": true
   },
   "outputs": [],
   "source": [
    "df1['date'] = pd.to_datetime(df1['date'])\n",
    "df1.dtypes"
   ]
  },
  {
   "cell_type": "markdown",
   "id": "bbb65a78",
   "metadata": {
    "hidden": true
   },
   "source": [
    "## 1.4 Check NA"
   ]
  },
  {
   "cell_type": "code",
   "execution_count": null,
   "id": "9ec5216d",
   "metadata": {
    "ExecuteTime": {
     "start_time": "2023-01-19T22:18:47.328Z"
    },
    "hidden": true
   },
   "outputs": [],
   "source": [
    "df1.isna().sum()"
   ]
  },
  {
   "cell_type": "markdown",
   "id": "cf415d22",
   "metadata": {
    "ExecuteTime": {
     "end_time": "2022-08-31T00:34:32.171093Z",
     "start_time": "2022-08-31T00:34:32.160782Z"
    },
    "hidden": true
   },
   "source": [
    "## 1.5 Fillout NA"
   ]
  },
  {
   "cell_type": "code",
   "execution_count": null,
   "id": "e57b725c",
   "metadata": {
    "ExecuteTime": {
     "start_time": "2023-01-19T22:18:47.331Z"
    },
    "hidden": true
   },
   "outputs": [],
   "source": [
    "#competition_distance\n",
    "df1['competition_distance'] = df1['competition_distance'].apply(lambda x: 200000.0 if math.isnan(x) else x)\n",
    "\n",
    "#competition_open_since_month\n",
    "df1['competition_open_since_month'] = df1.apply(lambda x: x['date'].month if math.isnan(x['competition_open_since_month']) else x['competition_open_since_month'], axis = 1)\n",
    "\n",
    "#competition_open_since_year\n",
    "df1['competition_open_since_year'] = df1.apply(lambda x: x['date'].year if math.isnan(x['competition_open_since_year']) else x['competition_open_since_year'], axis = 1)\n",
    "\n",
    "#promo2_since_week\n",
    "df1['promo2_since_week'] = df1.apply(lambda x: x['date'].week if math.isnan(x['promo2_since_week']) else x['promo2_since_week'], axis = 1)\n",
    "\n",
    "#promo2_since_year\n",
    "df1['promo2_since_year'] = df1.apply(lambda x: x['date'].year if math.isnan(x['promo2_since_year']) else x['promo2_since_year'], axis = 1)\n",
    "\n",
    "#promo_interval\n",
    "month_map = {1:'Jan', 2:'Feb', 3:'Mar', 4:'Apr', 5:'May', 6:'Jun', 7:'Jul', 8:'Aug', 9:'Sept', 10:'Oct', 11:'Nov', 12:'Dec'}\n",
    "\n",
    "df1['promo_interval'].fillna(0, inplace=True)\n",
    "\n",
    "df1['month_map'] = df1['date'].dt.month.map(month_map)\n",
    "\n",
    "df1['is_promo'] = df1[['promo_interval', 'month_map']].apply(lambda x: 0 if x['promo_interval'] == 0 else 1 if x['month_map'] in x['promo_interval'].split(',') else 0, axis=1)\n"
   ]
  },
  {
   "cell_type": "code",
   "execution_count": null,
   "id": "b16b94dd",
   "metadata": {
    "ExecuteTime": {
     "start_time": "2023-01-19T22:18:47.333Z"
    },
    "hidden": true,
    "scrolled": true
   },
   "outputs": [],
   "source": [
    "df1.isna().sum()"
   ]
  },
  {
   "cell_type": "markdown",
   "id": "014d1899",
   "metadata": {
    "hidden": true
   },
   "source": [
    "## 1.6 Change Data Types"
   ]
  },
  {
   "cell_type": "code",
   "execution_count": null,
   "id": "2ab46e2c",
   "metadata": {
    "ExecuteTime": {
     "start_time": "2023-01-19T22:18:47.336Z"
    },
    "hidden": true
   },
   "outputs": [],
   "source": [
    "#competition\n",
    "df1['competition_open_since_month'] = df1['competition_open_since_month'].astype(np.int64)\n",
    "df1['competition_open_since_year'] = df1['competition_open_since_year'].astype(np.int64)\n",
    "\n",
    "#promo2\n",
    "df1['promo2_since_week'] = df1['promo2_since_week'].astype(np.int64)\n",
    "df1['promo2_since_year'] = df1['promo2_since_year'].astype(np.int64)"
   ]
  },
  {
   "cell_type": "markdown",
   "id": "de5a541d",
   "metadata": {
    "hidden": true
   },
   "source": [
    "## 1.7 Descriptive Attributes"
   ]
  },
  {
   "cell_type": "code",
   "execution_count": null,
   "id": "b88d0d3a",
   "metadata": {
    "ExecuteTime": {
     "start_time": "2023-01-19T22:18:47.339Z"
    },
    "hidden": true
   },
   "outputs": [],
   "source": [
    "num_attributes = df1.select_dtypes(include=['int64', 'float64'])\n",
    "cat_attributes = df1.select_dtypes(exclude=['int64', 'float64', 'datetime64[ns]'])"
   ]
  },
  {
   "cell_type": "markdown",
   "id": "25a4e8e3",
   "metadata": {
    "hidden": true
   },
   "source": [
    "### 1.7.1 Numerical Attributes"
   ]
  },
  {
   "cell_type": "code",
   "execution_count": null,
   "id": "f79f1952",
   "metadata": {
    "ExecuteTime": {
     "start_time": "2023-01-19T22:18:47.342Z"
    },
    "hidden": true,
    "scrolled": true
   },
   "outputs": [],
   "source": [
    "# Central Tendency - mean, median\n",
    "ct1 = pd.DataFrame(num_attributes.apply(np.mean)).T\n",
    "ct2 = pd.DataFrame(num_attributes.apply(np.median)).T\n",
    "\n",
    "# Dispersion - std, min, max, range, skew, kurtosis\n",
    "d1 = pd.DataFrame(num_attributes.apply(np.std)).T\n",
    "d2 = pd.DataFrame(num_attributes.apply(min)).T\n",
    "d3 = pd.DataFrame(num_attributes.apply(max)).T\n",
    "d4 = pd.DataFrame(num_attributes.apply(lambda x: x.max() - x.min())).T\n",
    "d5 = pd.DataFrame(num_attributes.apply(lambda x: x.skew())).T\n",
    "d6 = pd.DataFrame(num_attributes.apply(lambda x: x.kurtosis())).T\n",
    "\n",
    "#concatenar\n",
    "m = pd.concat( [d2, d3, d4, ct1, ct2, d1, d5, d6] ).T.reset_index()\n",
    "m.columns = ['attributes', 'min', 'max', 'range', 'mean', 'median', 'std', 'skew', 'kurtosis']\n",
    "m"
   ]
  },
  {
   "cell_type": "code",
   "execution_count": null,
   "id": "2c52444f",
   "metadata": {
    "ExecuteTime": {
     "start_time": "2023-01-19T22:18:47.344Z"
    },
    "hidden": true,
    "hide_input": false
   },
   "outputs": [],
   "source": [
    "#plt.figure(figsize=(18, 6))\n",
    "sns.distplot(df1['competition_distance'])"
   ]
  },
  {
   "cell_type": "markdown",
   "id": "73e6aefa",
   "metadata": {
    "hidden": true
   },
   "source": [
    "### 1.7.2 Categorical Attributes"
   ]
  },
  {
   "cell_type": "code",
   "execution_count": null,
   "id": "b01970c4",
   "metadata": {
    "ExecuteTime": {
     "start_time": "2023-01-19T22:18:47.347Z"
    },
    "hidden": true,
    "scrolled": true
   },
   "outputs": [],
   "source": [
    "cat_attributes.apply( lambda x: x.unique().shape[0])"
   ]
  },
  {
   "cell_type": "code",
   "execution_count": null,
   "id": "3765f6b6",
   "metadata": {
    "ExecuteTime": {
     "start_time": "2023-01-19T22:18:47.349Z"
    },
    "hidden": true
   },
   "outputs": [],
   "source": [
    "plt.figure(figsize=(18, 6))\n",
    "aux = df1[(df1['state_holiday'] != '0') & (df1['sales'] > 0)]\n",
    "\n",
    "plt.subplot( 1, 3, 1 )\n",
    "sns.boxplot( x='state_holiday', y='sales', data=aux )\n",
    "\n",
    "plt.subplot( 1, 3, 2 )\n",
    "sns.boxplot( x='store_type', y='sales', data=aux )\n",
    "\n",
    "plt.subplot( 1, 3, 3 )\n",
    "sns.boxplot( x='assortment', y='sales', data=aux )"
   ]
  },
  {
   "cell_type": "markdown",
   "id": "6cd41d57",
   "metadata": {
    "heading_collapsed": true
   },
   "source": [
    "# 2.0. FEATURING ENGINEERING"
   ]
  },
  {
   "cell_type": "code",
   "execution_count": null,
   "id": "63d57310",
   "metadata": {
    "ExecuteTime": {
     "start_time": "2023-01-19T22:18:47.352Z"
    },
    "hidden": true
   },
   "outputs": [],
   "source": [
    "df2 = df1.copy()"
   ]
  },
  {
   "cell_type": "markdown",
   "id": "c12df98e",
   "metadata": {
    "hidden": true
   },
   "source": [
    "## 2.1 Mapa Mental de Hipoteses"
   ]
  },
  {
   "cell_type": "code",
   "execution_count": null,
   "id": "8b508645",
   "metadata": {
    "ExecuteTime": {
     "start_time": "2023-01-19T22:18:47.355Z"
    },
    "hidden": true,
    "scrolled": false
   },
   "outputs": [],
   "source": [
    "Image('img/MindMapHypothesis.png')"
   ]
  },
  {
   "cell_type": "markdown",
   "id": "33614e9a",
   "metadata": {
    "heading_collapsed": true,
    "hidden": true
   },
   "source": [
    "## 2.2. Criacao das Hipoteses"
   ]
  },
  {
   "cell_type": "markdown",
   "id": "0e74a779",
   "metadata": {
    "hidden": true
   },
   "source": [
    "### 2.2.1. Hipoteses Loja"
   ]
  },
  {
   "cell_type": "markdown",
   "id": "ac0b7358",
   "metadata": {
    "hidden": true
   },
   "source": [
    "1. Lojas com número maior de funcionários deveriam vender mais.\n",
    "2. Lojas com maior capacidade de estoque deveriam vender mais.\n",
    "3. Lojas com maior porte deveriam vender mais.\n",
    "4. Lojas com maior sortimentos deveriam vender mais.\n",
    "5. Lojas com competidores mais próximos deveriam vender menos.\n",
    "6. Lojas com competidores à mais tempo deveriam vendem mais."
   ]
  },
  {
   "cell_type": "markdown",
   "id": "8946aaec",
   "metadata": {
    "hidden": true
   },
   "source": [
    "### 2.2.2. Hipoteses Produto"
   ]
  },
  {
   "cell_type": "markdown",
   "id": "145b8101",
   "metadata": {
    "hidden": true
   },
   "source": [
    "1. Lojas que investem mais em Marketing deveriam vender mais.\n",
    "2. Lojas com maior exposição de produto deveriam vender mais.\n",
    "3. Lojas com produtos com preço menor deveriam vender mais.\n",
    "5. Lojas com promoções mais agressivas ( descontos maiores ), deveriam vender mais.\n",
    "6. Lojas com promoções ativas por mais tempo deveriam vender mais.\n",
    "7. Lojas com mais dias de promoção deveriam vender mais.\n",
    "8. Lojas com mais promoções consecutivas deveriam vender mais."
   ]
  },
  {
   "cell_type": "markdown",
   "id": "be777b5d",
   "metadata": {
    "hidden": true
   },
   "source": [
    "### 2.2.3. Hipoteses Tempo"
   ]
  },
  {
   "cell_type": "markdown",
   "id": "87118ea8",
   "metadata": {
    "hidden": true
   },
   "source": [
    "1. Lojas com número maior de funcionários deveriam vender mais.\n",
    "2. Lojas com maior capacidade de estoque deveriam vender mais.\n",
    "3. Lojas com maior porte deveriam vender mais.\n",
    "4. Lojas com maior sortimentos deveriam vender mais.\n",
    "5. Lojas com competidores mais próximos deveriam vender menos.\n",
    "6. Lojas com competidores à mais tempo deveriam vendem mais."
   ]
  },
  {
   "cell_type": "markdown",
   "id": "f206820d",
   "metadata": {
    "heading_collapsed": true,
    "hidden": true
   },
   "source": [
    "## 2.3. Lista Final de Hipoteses"
   ]
  },
  {
   "cell_type": "markdown",
   "id": "1dc7bd29",
   "metadata": {
    "hidden": true
   },
   "source": [
    "1. Lojas com maior sortimentos deveriam vender mais.\n",
    "2. Lojas com competidores mais próximos deveriam vender menos.\n",
    "3. Lojas com competidores à mais tempo deveriam vendem mais.\n",
    "4. Lojas com promoções ativas por mais tempo deveriam vender mais.\n",
    "5. Lojas com mais dias de promoção deveriam vender mais.\n",
    "7. Lojas com mais promoções consecutivas deveriam vender mais.\n",
    "8. Lojas abertas durante o feriado de Natal deveriam vender mais.\n",
    "9. Lojas deveriam vender mais ao longo dos anos.\n",
    "10. Lojas deveriam vender mais no segundo semestre do ano.\n",
    "11. Lojas deveriam vender mais depois do dia 10 de cada mês.\n",
    "12. Lojas deveriam vender menos aos finais de semana.\n",
    "13. Lojas deveriam vender menos durante os feriados escolares."
   ]
  },
  {
   "cell_type": "markdown",
   "id": "e4816ee5",
   "metadata": {
    "heading_collapsed": true,
    "hidden": true
   },
   "source": [
    "## 2.4. Feature Engineering"
   ]
  },
  {
   "cell_type": "code",
   "execution_count": null,
   "id": "d8cf594c",
   "metadata": {
    "ExecuteTime": {
     "start_time": "2023-01-19T22:18:47.363Z"
    },
    "hidden": true
   },
   "outputs": [],
   "source": [
    "# year\n",
    "df2['year'] = df2['date'].dt.year\n",
    "\n",
    "# month\n",
    "df2['month'] = df2['date'].dt.month\n",
    "\n",
    "# day\n",
    "df2['day'] = df2['date'].dt.day\n",
    "\n",
    "# week of year\n",
    "df2['week_of_year'] = df2['date'].dt.weekofyear\n",
    "\n",
    "# year-week\n",
    "df2['year_week'] = df2['date'].dt.strftime('%Y-%W')\n",
    "\n",
    "# competition since\n",
    "df2['competition_since'] = df2.apply(lambda x: datetime.datetime(year=x['competition_open_since_year'], month=x['competition_open_since_month'], day=1), axis=1)\n",
    "df2['competition_time_month'] = ((df2['date'] - df2['competition_since']) / 30).apply(lambda x: x.days).astype(int)\n",
    "\n",
    "# promo since\n",
    "df2['promo_since'] = df2['promo2_since_year'].astype(str) + '-' + df2['promo2_since_week'].astype(str)\n",
    "df2['promo_since'] = df2['promo_since'].apply( lambda x: datetime.datetime.strptime( x + '-1', '%Y-%W-%w' ) - datetime.timedelta( days=7 ) )\n",
    "df2['promo_time_week'] = ( ( df2['date'] - df2['promo_since'] )/7 ).apply(lambda x: x.days ).astype( int )\n",
    "\n",
    "# assortment\n",
    "df2['assortment'] = df2['assortment'].apply( lambda x: 'basic' if x=='a' else 'extra' if x=='b' else 'extended')\n",
    "\n",
    "# state holiday\n",
    "df2['state_holiday'] = df2['state_holiday'].apply( lambda x: 'public_holiday' if x=='a' else 'easter_holiday' if x=='b' else 'chrtismas' if x=='c' else 'regular_day')"
   ]
  },
  {
   "cell_type": "code",
   "execution_count": null,
   "id": "32f80de4",
   "metadata": {
    "ExecuteTime": {
     "start_time": "2023-01-19T22:18:47.365Z"
    },
    "hidden": true,
    "scrolled": false
   },
   "outputs": [],
   "source": [
    "df2.head().T"
   ]
  },
  {
   "cell_type": "markdown",
   "id": "b66025b4",
   "metadata": {
    "heading_collapsed": true
   },
   "source": [
    "# 3.0. FILTRAGEM DAS VARIAVEIS"
   ]
  },
  {
   "cell_type": "code",
   "execution_count": null,
   "id": "ddd17157",
   "metadata": {
    "ExecuteTime": {
     "start_time": "2023-01-19T22:18:47.368Z"
    },
    "hidden": true
   },
   "outputs": [],
   "source": [
    "df3 = df2.copy()"
   ]
  },
  {
   "cell_type": "markdown",
   "id": "30e08ef2",
   "metadata": {
    "hidden": true
   },
   "source": [
    "## 3.1. Filtragem das linhas"
   ]
  },
  {
   "cell_type": "code",
   "execution_count": null,
   "id": "f8004060",
   "metadata": {
    "ExecuteTime": {
     "start_time": "2023-01-19T22:18:47.371Z"
    },
    "hidden": true
   },
   "outputs": [],
   "source": [
    "df3 = df3[(df3['open']!= 0) & (df3['sales']>0)]"
   ]
  },
  {
   "cell_type": "markdown",
   "id": "e3d3c839",
   "metadata": {
    "hidden": true
   },
   "source": [
    "## 3.2. Filtragem das colunas"
   ]
  },
  {
   "cell_type": "code",
   "execution_count": null,
   "id": "d53eba34",
   "metadata": {
    "ExecuteTime": {
     "start_time": "2023-01-19T22:18:47.373Z"
    },
    "hidden": true
   },
   "outputs": [],
   "source": [
    "cols_drop = ['customers', 'open', 'promo_interval', 'month_map']\n",
    "df3 = df3.drop(cols_drop, axis=1)"
   ]
  },
  {
   "cell_type": "markdown",
   "id": "8e6d8d70",
   "metadata": {
    "heading_collapsed": true
   },
   "source": [
    "# 4.0. ANALISE EXPLORATORIA DE DADOS (EDA)"
   ]
  },
  {
   "cell_type": "code",
   "execution_count": null,
   "id": "1deb130b",
   "metadata": {
    "ExecuteTime": {
     "start_time": "2023-01-19T22:18:47.376Z"
    },
    "hidden": true
   },
   "outputs": [],
   "source": [
    "df4 = df3.copy()"
   ]
  },
  {
   "cell_type": "markdown",
   "id": "5107d038",
   "metadata": {
    "hidden": true
   },
   "source": [
    "## 4.1. Analise Univariada"
   ]
  },
  {
   "cell_type": "markdown",
   "id": "9f7df127",
   "metadata": {
    "hidden": true
   },
   "source": [
    "### 4.1.1. Reponse Variable"
   ]
  },
  {
   "cell_type": "code",
   "execution_count": null,
   "id": "b3195b45",
   "metadata": {
    "ExecuteTime": {
     "start_time": "2023-01-19T22:18:47.380Z"
    },
    "hidden": true
   },
   "outputs": [],
   "source": [
    "sns.histplot(df4['sales'], kde=False);"
   ]
  },
  {
   "cell_type": "markdown",
   "id": "15bfc297",
   "metadata": {
    "hidden": true
   },
   "source": [
    "### 4.1.2. Numerical Variable"
   ]
  },
  {
   "cell_type": "code",
   "execution_count": null,
   "id": "9d8e271f",
   "metadata": {
    "ExecuteTime": {
     "start_time": "2023-01-19T22:18:47.382Z"
    },
    "hidden": true
   },
   "outputs": [],
   "source": [
    "num_attributes.hist(bins=25);"
   ]
  },
  {
   "cell_type": "markdown",
   "id": "81849849",
   "metadata": {
    "heading_collapsed": true,
    "hidden": true
   },
   "source": [
    "### 4.1.3. Categorical Variable"
   ]
  },
  {
   "cell_type": "code",
   "execution_count": null,
   "id": "e59d650f",
   "metadata": {
    "ExecuteTime": {
     "start_time": "2023-01-19T22:18:47.385Z"
    },
    "hidden": true
   },
   "outputs": [],
   "source": [
    "df4['state_holiday'].drop_duplicates()"
   ]
  },
  {
   "cell_type": "code",
   "execution_count": null,
   "id": "70c68858",
   "metadata": {
    "ExecuteTime": {
     "start_time": "2023-01-19T22:18:47.387Z"
    },
    "hidden": true
   },
   "outputs": [],
   "source": [
    "#state holiday\n",
    "plt.subplot(3,2,1)\n",
    "a = df4[df4['state_holiday'] != 'regular_day']\n",
    "sns.countplot(a['state_holiday'])\n",
    "\n",
    "plt.subplot(3,2,2)\n",
    "sns.kdeplot( df4[df4['state_holiday'] == 'public_holiday']['sales'], label='public_holiday', shade=True);\n",
    "sns.kdeplot( df4[df4['state_holiday'] == 'easter_holiday']['sales'], label='easter_holiday', shade=True);\n",
    "sns.kdeplot( df4[df4['state_holiday'] == 'christmas']['sales'], label='christmas', shade=True);\n",
    "\n",
    "#store_type\n",
    "plt.subplot(3,2,3)\n",
    "sns.countplot( df4['store_type'])\n",
    "\n",
    "plt.subplot(3,2,4)\n",
    "sns.kdeplot( df4[df4['store_type'] == 'a']['sales'], label='a', shade=True);\n",
    "sns.kdeplot( df4[df4['store_type'] == 'b']['sales'], label='b', shade=True);\n",
    "sns.kdeplot( df4[df4['store_type'] == 'c']['sales'], label='c', shade=True);\n",
    "sns.kdeplot( df4[df4['store_type'] == 'd']['sales'], label='d', shade=True);\n",
    "\n",
    "#assortment\n",
    "plt.subplot(3,2,5)\n",
    "sns.countplot( df4['assortment'])\n",
    "\n",
    "plt.subplot(3,2,6)\n",
    "sns.kdeplot( df4[df4['assortment'] == 'extended']['sales'], label='extended', shade=True);\n",
    "sns.kdeplot( df4[df4['assortment'] == 'basic']['sales'], label='basic', shade=True);\n",
    "sns.kdeplot( df4[df4['assortment'] == 'extra']['sales'], label='extra', shade=True);"
   ]
  },
  {
   "cell_type": "markdown",
   "id": "24614e5a",
   "metadata": {
    "hidden": true
   },
   "source": [
    "## 4.2. Analise Bivariada"
   ]
  },
  {
   "cell_type": "markdown",
   "id": "ceb919f9",
   "metadata": {
    "hidden": true
   },
   "source": [
    "### 4.2.1. H1. Lojas com maior sortimentos deveriam vender mais.\n",
    "\n",
    "**FALSA** Lojas com MAIOR SORTIMENTOS vendem MENOS."
   ]
  },
  {
   "cell_type": "code",
   "execution_count": null,
   "id": "c55a7a8b",
   "metadata": {
    "ExecuteTime": {
     "start_time": "2023-01-19T22:18:47.391Z"
    },
    "hidden": true,
    "hide_input": false
   },
   "outputs": [],
   "source": [
    "aux1 = df4[['assortment', 'sales']].groupby('assortment').sum().reset_index()\n",
    "sns.barplot(x='assortment', y='sales', data=aux1)\n",
    "\n",
    "aux2 = df4[['year_week', 'assortment', 'sales']].groupby(['year_week', 'assortment']).sum().reset_index()\n",
    "aux2.pivot(index='year_week', columns='assortment', values='sales').plot()\n",
    "\n",
    "aux3 = aux2[aux2['assortment'] == 'extra']\n",
    "aux3.pivot(index='year_week', columns='assortment', values='sales').plot();"
   ]
  },
  {
   "cell_type": "markdown",
   "id": "fd50deb9",
   "metadata": {
    "ExecuteTime": {
     "end_time": "2022-10-07T23:41:57.144913Z",
     "start_time": "2022-10-07T23:41:57.120241Z"
    },
    "hidden": true
   },
   "source": [
    "### 4.2.2. H2. Lojas com competidores mais proximos deveriam vender menos.\n",
    "**FALSA.** Lojas com COMPETIDORES MAIS PROXIMOS vendem MAIS."
   ]
  },
  {
   "cell_type": "code",
   "execution_count": null,
   "id": "5a6e0c67",
   "metadata": {
    "ExecuteTime": {
     "start_time": "2023-01-19T22:18:47.394Z"
    },
    "hidden": true
   },
   "outputs": [],
   "source": [
    "aux1 = df4[['competition_distance', 'sales']].groupby('competition_distance').sum().reset_index()\n",
    "\n",
    "plt.subplot( 1,3,1 )\n",
    "sns.scatterplot( x='competition_distance', y='sales', data=aux1 );\n",
    "plt.xticks( rotation=90 );\n",
    "\n",
    "plt.subplot( 1,3,2 )\n",
    "bins = list( np.arange( 0, 20000, 1000 ))\n",
    "aux1['competition_distance_binned'] = pd.cut(aux1['competition_distance'], bins=bins)\n",
    "aux2 = aux1[['competition_distance_binned', 'sales']].groupby('competition_distance_binned').sum().reset_index()\n",
    "sns.barplot( x='competition_distance_binned', y='sales', data=aux2 );\n",
    "plt.xticks( rotation=90 );\n",
    "\n",
    "plt.subplot( 1,3,3 )\n",
    "sns.heatmap( aux1.corr( method='pearson' ), annot=True);"
   ]
  },
  {
   "cell_type": "markdown",
   "id": "db8c6202",
   "metadata": {
    "hidden": true
   },
   "source": [
    "### 4.2.3. H3. Lojas com competidores a mais tempo deveriam vender mais.\n",
    "\n",
    "**FALSA**. Lojas com COMPETIDORES À MAIS TEMPO vendem MENOS."
   ]
  },
  {
   "cell_type": "code",
   "execution_count": null,
   "id": "da96a1d6",
   "metadata": {
    "ExecuteTime": {
     "start_time": "2023-01-19T22:18:47.397Z"
    },
    "hidden": true,
    "hide_input": false,
    "scrolled": false
   },
   "outputs": [],
   "source": [
    "plt.subplot( 1,3,1 )\n",
    "aux1 = df4[['competition_time_month', 'sales']].groupby('competition_time_month').sum().reset_index()\n",
    "aux2 = aux1[(aux1['competition_time_month'] < 120) & (aux1['competition_time_month'] != 0)]\n",
    "sns.barplot(x='competition_time_month', y='sales', data=aux2);\n",
    "plt.xticks(rotation=90);\n",
    "\n",
    "plt.subplot( 1,3,2 )\n",
    "sns.regplot(x='competition_time_month', y='sales', data=aux2);\n",
    "\n",
    "plt.subplot( 1,3,3 )\n",
    "sns.heatmap(aux1.corr( method='pearson'), annot=True );"
   ]
  },
  {
   "cell_type": "markdown",
   "id": "de83e5b2",
   "metadata": {
    "hidden": true
   },
   "source": [
    "### 4.2.4. H4 Lojas com promocoes ativas por mais tempo deveriam vender mais.\n",
    "**FALSA.** Lojas com promocoes ativas por mais tempo vendem menos, depois de certo periodo de tempo."
   ]
  },
  {
   "cell_type": "code",
   "execution_count": null,
   "id": "3542fad8",
   "metadata": {
    "ExecuteTime": {
     "start_time": "2023-01-19T22:18:47.400Z"
    },
    "hidden": true
   },
   "outputs": [],
   "source": [
    "aux1 = df4[['promo_time_week', 'sales']].groupby('promo_time_week').sum().reset_index()\n",
    "\n",
    "grid = gridspec.GridSpec( 2, 3 )\n",
    "\n",
    "plt.subplot(grid[0,0])\n",
    "aux2 = aux1[aux1['promo_time_week'] > 0] #promo extendedido\n",
    "sns.barplot(x='promo_time_week', y='sales', data=aux2);\n",
    "plt.xticks(rotation=90)\n",
    "\n",
    "plt.subplot(grid[0,1])\n",
    "sns.regplot(x='promo_time_week', y='sales', data=aux2);\n",
    "\n",
    "plt.subplot(grid[1,0])\n",
    "aux3 = aux1[aux1['promo_time_week'] < 0] #promo regular\n",
    "sns.barplot(x='promo_time_week', y='sales', data=aux3);\n",
    "plt.xticks(rotation=90)\n",
    "\n",
    "plt.subplot(grid[1,1])\n",
    "sns.regplot(x='promo_time_week', y='sales', data=aux3);\n",
    "\n",
    "plt.subplot(grid[:,2])\n",
    "sns.heatmap(aux1.corr(method='pearson'), annot=True);"
   ]
  },
  {
   "cell_type": "markdown",
   "id": "351597bd",
   "metadata": {
    "ExecuteTime": {
     "end_time": "2022-10-08T22:46:33.045423Z",
     "start_time": "2022-10-08T22:46:26.432560Z"
    },
    "heading_collapsed": true,
    "hidden": true
   },
   "source": [
    "### 4.2.5. <s>H5. Lojas com mais dias de promoção deveriam vender mais.</s>"
   ]
  },
  {
   "cell_type": "markdown",
   "id": "1fb41e0e",
   "metadata": {
    "hidden": true
   },
   "source": [
    "### 4.2.6. H6. Lojas com mais promoções consecutivas deveriam vender mais.\n",
    "**FALSA.** Lojas com promocoes consecutivas vendem menos."
   ]
  },
  {
   "cell_type": "code",
   "execution_count": null,
   "id": "0151ac76",
   "metadata": {
    "ExecuteTime": {
     "start_time": "2023-01-19T22:18:47.403Z"
    },
    "hidden": true,
    "scrolled": true
   },
   "outputs": [],
   "source": [
    "df4[['promo', 'promo2', 'sales']].groupby(['promo','promo2']).sum().reset_index()"
   ]
  },
  {
   "cell_type": "code",
   "execution_count": null,
   "id": "80b5d560",
   "metadata": {
    "ExecuteTime": {
     "start_time": "2023-01-19T22:18:47.406Z"
    },
    "hidden": true,
    "hide_input": false
   },
   "outputs": [],
   "source": [
    "aux1 = df4[(df4['promo'] == 1) & (df4['promo2'] == 1)][['year_week', 'sales']].groupby('year_week').sum().reset_index()\n",
    "ax = aux1.plot();\n",
    "\n",
    "aux2 = df4[(df4['promo'] == 1) & (df4['promo2'] == 0)][['year_week', 'sales']].groupby('year_week').sum().reset_index()\n",
    "aux2.plot( ax=ax );\n",
    "\n",
    "ax.legend( labels = ['Tradicional & Extendida', 'Extendida']);"
   ]
  },
  {
   "cell_type": "markdown",
   "id": "87bcf63e",
   "metadata": {
    "hidden": true
   },
   "source": [
    "### 4.2.7. H7.  Lojas abertas durante o feriado de Natal deveriam vender mais.\n",
    "**FALSA.** Lojas abertas durante o feriado de Natal vendem menos."
   ]
  },
  {
   "cell_type": "code",
   "execution_count": null,
   "id": "6483ce2c",
   "metadata": {
    "ExecuteTime": {
     "start_time": "2023-01-19T22:18:47.409Z"
    },
    "hidden": true
   },
   "outputs": [],
   "source": [
    "aux = df4[df4['state_holiday'] != 'regular_day']\n",
    "\n",
    "plt.subplot(1,2,1)\n",
    "aux1 = aux[['state_holiday', 'sales']].groupby('state_holiday').sum().reset_index()\n",
    "sns.barplot(x='state_holiday', y='sales', data=aux1);\n",
    "\n",
    "plt.subplot(1,2,2)\n",
    "aux2 = aux[['year', 'state_holiday', 'sales']].groupby(['year', 'state_holiday']).sum().reset_index()\n",
    "sns.barplot(x='year', y='sales', hue='state_holiday', data=aux2);"
   ]
  },
  {
   "cell_type": "markdown",
   "id": "e54c5b55",
   "metadata": {
    "hidden": true
   },
   "source": [
    "### 4.2.8. H8. Lojas deveriam vender mais ao longo dos anos.\n",
    "**FALSA.** Lojas vendem menos ao longo dos anos."
   ]
  },
  {
   "cell_type": "code",
   "execution_count": null,
   "id": "900141f1",
   "metadata": {
    "ExecuteTime": {
     "start_time": "2023-01-19T22:18:47.412Z"
    },
    "hidden": true
   },
   "outputs": [],
   "source": [
    "aux = df4[['year', 'sales']].groupby('year').sum().reset_index()\n",
    "\n",
    "plt.subplot(1,3,1)\n",
    "sns.barplot(x='year', y='sales', data=aux);\n",
    "\n",
    "plt.subplot(1,3,2)\n",
    "sns.regplot(x='year', y='sales', data=aux);\n",
    "\n",
    "plt.subplot(1,3,3)\n",
    "sns.heatmap(aux.corr(method='pearson'), annot=True);"
   ]
  },
  {
   "cell_type": "markdown",
   "id": "0d609459",
   "metadata": {
    "hidden": true
   },
   "source": [
    "### 4.2.9. H9. Lojas deveriam vender mais no segundo semestre do ano.\n",
    "**FALSA.** Lojas vendem menos no segundo semestre do ano."
   ]
  },
  {
   "cell_type": "code",
   "execution_count": null,
   "id": "a2513c89",
   "metadata": {
    "ExecuteTime": {
     "start_time": "2023-01-19T22:18:47.415Z"
    },
    "hidden": true
   },
   "outputs": [],
   "source": [
    "aux = df4[['month', 'sales']].groupby('month').sum().reset_index()\n",
    "\n",
    "plt.subplot(1,3,1)\n",
    "sns.barplot(x='month', y='sales', data=aux);\n",
    "\n",
    "plt.subplot(1,3,2)\n",
    "sns.regplot(x='month', y='sales', data=aux);\n",
    "\n",
    "plt.subplot(1,3,3)\n",
    "sns.heatmap(aux.corr(method='pearson'), annot=True);"
   ]
  },
  {
   "cell_type": "markdown",
   "id": "76328150",
   "metadata": {
    "hidden": true
   },
   "source": [
    "### 4.2.10. H10. Lojas deveriam vender mais depois do dia 10 de cada mes.\n",
    "**VERDADEIRA.** Lojas vendem mais depois do dia 10 de cada mes."
   ]
  },
  {
   "cell_type": "code",
   "execution_count": null,
   "id": "b6093226",
   "metadata": {
    "ExecuteTime": {
     "start_time": "2023-01-19T22:18:47.418Z"
    },
    "hidden": true
   },
   "outputs": [],
   "source": [
    "aux1 = df4[['day', 'sales']].groupby('day').sum().reset_index()\n",
    "\n",
    "plt.subplot(2,2,1)\n",
    "sns.barplot(x='day', y='sales', data=aux1);\n",
    "\n",
    "plt.subplot(2,2,2)\n",
    "sns.regplot(x='day', y='sales', data=aux1);\n",
    "\n",
    "plt.subplot(2,2,3)\n",
    "sns.heatmap(aux1.corr(method='pearson'), annot=True);\n",
    "\n",
    "aux1['before_after'] = aux1['day'].apply(lambda x: 'before_10_days' if x <=10 else 'after_10_days')\n",
    "aux2 = aux1[['before_after', 'sales']].groupby('before_after').sum().reset_index()\n",
    "\n",
    "plt.subplot(2,2,4)\n",
    "sns.barplot(x='before_after', y='sales', data=aux2);\n"
   ]
  },
  {
   "cell_type": "markdown",
   "id": "f7b8cc08",
   "metadata": {
    "hidden": true
   },
   "source": [
    "### 4.2.11 H11. Lojas deveriam vender menos aos finais de semana.\n",
    "**VERDADEIRA.** Lojas vendem menos aos finais de semana."
   ]
  },
  {
   "cell_type": "code",
   "execution_count": null,
   "id": "970555c1",
   "metadata": {
    "ExecuteTime": {
     "start_time": "2023-01-19T22:18:47.421Z"
    },
    "hidden": true
   },
   "outputs": [],
   "source": [
    "aux = df4[['day_of_week', 'sales']].groupby('day_of_week').sum().reset_index()\n",
    "\n",
    "plt.subplot(1,2,1)\n",
    "sns.barplot(x='day_of_week', y='sales', data=aux);\n",
    "\n",
    "plt.subplot(1,2,2)\n",
    "sns.heatmap(aux.corr(method='pearson'), annot=True);"
   ]
  },
  {
   "cell_type": "markdown",
   "id": "bdcd35a7",
   "metadata": {
    "hidden": true
   },
   "source": [
    "### 4.2.12 H12. Lojas deveriam vender menos durante os feriados escolares.\n",
    "**VERDADEIRA.** Lojas vendem menos durante os feriados escolares."
   ]
  },
  {
   "cell_type": "code",
   "execution_count": null,
   "id": "3ad4c5f4",
   "metadata": {
    "ExecuteTime": {
     "start_time": "2023-01-19T22:18:47.423Z"
    },
    "hidden": true
   },
   "outputs": [],
   "source": [
    "aux = df4[['school_holiday', 'sales']].groupby('school_holiday').sum().reset_index()\n",
    "\n",
    "plt.subplot(2,1,1)\n",
    "sns.barplot(x='school_holiday', y='sales', data=aux);\n",
    "\n",
    "aux2 = df4[['school_holiday', 'sales', 'month']].groupby(['month','school_holiday']).sum().reset_index()\n",
    "plt.subplot(2,1,2)\n",
    "sns.barplot(x='month', y='sales', hue='school_holiday', data=aux2);"
   ]
  },
  {
   "cell_type": "markdown",
   "id": "b58c538d",
   "metadata": {
    "hidden": true
   },
   "source": [
    "### 4.2.13 Resumo das Hipoteses"
   ]
  },
  {
   "cell_type": "code",
   "execution_count": null,
   "id": "b24ec5db",
   "metadata": {
    "ExecuteTime": {
     "start_time": "2023-01-19T22:18:47.426Z"
    },
    "hidden": true
   },
   "outputs": [],
   "source": [
    "from tabulate import tabulate"
   ]
  },
  {
   "cell_type": "code",
   "execution_count": null,
   "id": "b717d28b",
   "metadata": {
    "ExecuteTime": {
     "start_time": "2023-01-19T22:18:47.429Z"
    },
    "hidden": true,
    "hide_input": false,
    "scrolled": true
   },
   "outputs": [],
   "source": [
    "tab =[['Hipoteses', 'Conclusao', 'Relevancia'],\n",
    "      ['H1', 'Falsa', 'Baixa'],\n",
    "      ['H2', 'Falsa', 'Media'],\n",
    "      ['H3', 'Falsa', 'Media'],\n",
    "      ['H4', 'Falsa', 'Baixa'],\n",
    "      ['H5', '-', '-'],\n",
    "      ['H7', 'Falsa', 'Baixa'],\n",
    "      ['H8', 'Falsa', 'Media'],\n",
    "      ['H9', 'Falsa', 'Alta'],\n",
    "      ['H10', 'Falsa', 'Alta'],\n",
    "      ['H11', 'Verdadeira', 'Alta'],\n",
    "      ['H12', 'Verdadeira', 'Alta'],\n",
    "      ['H13', 'Verdadeira', 'Baixa'],\n",
    "    ]\n",
    "print( tabulate( tab, headers='firstrow' ) )"
   ]
  },
  {
   "cell_type": "markdown",
   "id": "e33149d8",
   "metadata": {
    "hidden": true
   },
   "source": [
    "## 4.3. Analise Multivariada"
   ]
  },
  {
   "cell_type": "markdown",
   "id": "f4839888",
   "metadata": {
    "hidden": true
   },
   "source": [
    "### 4.3.1. Numerical Attributes"
   ]
  },
  {
   "cell_type": "code",
   "execution_count": null,
   "id": "c6849331",
   "metadata": {
    "ExecuteTime": {
     "start_time": "2023-01-19T22:18:47.432Z"
    },
    "hidden": true
   },
   "outputs": [],
   "source": [
    "correlation = num_attributes.corr( method='pearson' )\n",
    "sns.heatmap( correlation, annot=True );"
   ]
  },
  {
   "cell_type": "markdown",
   "id": "adfba0b7",
   "metadata": {
    "hidden": true
   },
   "source": [
    "### 4.3.2. Categorical Attributes"
   ]
  },
  {
   "cell_type": "code",
   "execution_count": null,
   "id": "c71ecca2",
   "metadata": {
    "ExecuteTime": {
     "start_time": "2023-01-19T22:18:47.435Z"
    },
    "hidden": true
   },
   "outputs": [],
   "source": [
    "# only categorical data\n",
    "a = df4.select_dtypes( include='object')\n",
    "\n",
    "\n",
    "# Calculate cramer V\n",
    "a1 = cramer_v( a['state_holiday'], a['state_holiday'])\n",
    "a2 = cramer_v( a['state_holiday'], a['store_type'])\n",
    "a3 = cramer_v( a['state_holiday'], a['assortment'])\n",
    "\n",
    "a4 = cramer_v( a['store_type'], a['state_holiday'])\n",
    "a5 = cramer_v( a['store_type'], a['store_type'])\n",
    "a6 = cramer_v( a['store_type'], a['assortment'])\n",
    "\n",
    "a7 = cramer_v( a['assortment'], a['state_holiday'])\n",
    "a8 = cramer_v( a['assortment'], a['store_type'])\n",
    "a9 = cramer_v( a['assortment'], a['assortment'])\n",
    "\n",
    "# final dataset\n",
    "d = pd.DataFrame( {'state_holiday': [a1,a2,a3],\n",
    "                   'store_type': [a4,a5,a6],\n",
    "                   'assorment': [a7,a8,a9]} )\n",
    "d = d.set_index(d.columns)\n",
    "\n",
    "sns.heatmap(d, annot=True);"
   ]
  },
  {
   "cell_type": "markdown",
   "id": "7b814711",
   "metadata": {
    "heading_collapsed": true
   },
   "source": [
    "# 5.0. DATA PREPARATION"
   ]
  },
  {
   "cell_type": "code",
   "execution_count": null,
   "id": "edd95551",
   "metadata": {
    "ExecuteTime": {
     "start_time": "2023-01-19T22:18:47.437Z"
    },
    "hidden": true
   },
   "outputs": [],
   "source": [
    "df5 = df4.copy()"
   ]
  },
  {
   "cell_type": "markdown",
   "id": "019910b2",
   "metadata": {
    "hidden": true
   },
   "source": [
    "## 5.1. Normalizacao"
   ]
  },
  {
   "cell_type": "markdown",
   "id": "be128518",
   "metadata": {
    "heading_collapsed": true,
    "hidden": true
   },
   "source": [
    "## 5.2. Rescaling"
   ]
  },
  {
   "cell_type": "code",
   "execution_count": null,
   "id": "18489b91",
   "metadata": {
    "ExecuteTime": {
     "start_time": "2023-01-19T22:18:47.440Z"
    },
    "hidden": true
   },
   "outputs": [],
   "source": [
    "rs = RobustScaler()\n",
    "mms = MinMaxScaler()\n",
    "\n",
    "# competition distance\n",
    "df5['competition_distance'] = rs.fit_transform( df5[['competition_distance']].values )\n",
    "\n",
    "# competition time month\n",
    "df5['competition_time_month'] = rs.fit_transform( df5[['competition_time_month']].values )\n",
    "\n",
    "# promo time week\n",
    "df5['promo_time_week'] = mms.fit_transform( df5[['promo_time_week']].values )\n",
    "\n",
    "# year\n",
    "df5['year'] = mms.fit_transform( df5[['year']].values )"
   ]
  },
  {
   "cell_type": "markdown",
   "id": "fbd8e9e5",
   "metadata": {
    "hidden": true
   },
   "source": [
    "## 5.3. Transformacao"
   ]
  },
  {
   "cell_type": "markdown",
   "id": "4bbabef8",
   "metadata": {
    "heading_collapsed": true,
    "hidden": true
   },
   "source": [
    "### 5.3.1. Encoding"
   ]
  },
  {
   "cell_type": "code",
   "execution_count": null,
   "id": "8499a1ca",
   "metadata": {
    "ExecuteTime": {
     "start_time": "2023-01-19T22:18:47.444Z"
    },
    "hidden": true
   },
   "outputs": [],
   "source": [
    "# state holiday - One Hot Encoding\n",
    "df5 = pd.get_dummies( df5, prefix=['state_holiday'], columns=['state_holiday'])\n",
    "\n",
    "# store type - Label Encoding\n",
    "le = LabelEncoder()\n",
    "df5['store_type'] = le.fit_transform( df5['store_type'] )\n",
    "\n",
    "# assortment - Ordinal Encoding\n",
    "assortment_dict = {'basic':1, 'extra':2, 'extended':3}\n",
    "df5['assortment'] = df5['assortment'].map(assortment_dict)"
   ]
  },
  {
   "cell_type": "markdown",
   "id": "2b553fb4",
   "metadata": {
    "hidden": true
   },
   "source": [
    "### 5.3.2. Response Variable Transformation"
   ]
  },
  {
   "cell_type": "code",
   "execution_count": null,
   "id": "78ade8ac",
   "metadata": {
    "ExecuteTime": {
     "start_time": "2023-01-19T22:18:47.446Z"
    },
    "hidden": true
   },
   "outputs": [],
   "source": [
    "df5['sales'] = np.log1p( df5['sales'] )"
   ]
  },
  {
   "cell_type": "markdown",
   "id": "34913afb",
   "metadata": {
    "hidden": true
   },
   "source": [
    "### 5.3.3. Nature Transformation"
   ]
  },
  {
   "cell_type": "code",
   "execution_count": null,
   "id": "913d75f5",
   "metadata": {
    "ExecuteTime": {
     "start_time": "2023-01-19T22:18:47.449Z"
    },
    "hidden": true
   },
   "outputs": [],
   "source": [
    "# month\n",
    "df5['month_sin'] = df5['month'].apply(lambda x: np.sin( x * (2. * np.pi/12 )))\n",
    "df5['month_cos'] = df5['month'].apply(lambda x: np.cos( x * (2. * np.pi/12 )))\n",
    "\n",
    "# day\n",
    "df5['day_sin'] = df5['day'].apply(lambda x: np.sin( x * (2. * np.pi/30 )))\n",
    "df5['day_cos'] = df5['day'].apply(lambda x: np.cos( x * (2. * np.pi/30 )))\n",
    "\n",
    "# week of year\n",
    "df5['week_of_year_sin'] = df5['week_of_year'].apply(lambda x: np.sin( x * (2. * np.pi/52 )))\n",
    "df5['week_of_year_cos'] = df5['week_of_year'].apply(lambda x: np.cos( x * (2. * np.pi/52 )))\n",
    "\n",
    "# day of week\n",
    "df5['day_of_week_sin'] = df5['day_of_week'].apply(lambda x: np.sin( x * (2. * np.pi/7 )))\n",
    "df5['day_of_week_cos'] = df5['day_of_week'].apply(lambda x: np.cos( x * (2. * np.pi/7 )))"
   ]
  },
  {
   "cell_type": "code",
   "execution_count": null,
   "id": "f0fc5bed",
   "metadata": {
    "ExecuteTime": {
     "start_time": "2023-01-19T22:18:47.452Z"
    },
    "hidden": true,
    "scrolled": true
   },
   "outputs": [],
   "source": [
    "df5.head()"
   ]
  },
  {
   "cell_type": "markdown",
   "id": "74be181d",
   "metadata": {
    "heading_collapsed": true
   },
   "source": [
    "# 6.0. FEATURE SELECTION"
   ]
  },
  {
   "cell_type": "code",
   "execution_count": null,
   "id": "e9aacecb",
   "metadata": {
    "ExecuteTime": {
     "start_time": "2023-01-19T22:18:47.454Z"
    },
    "hidden": true
   },
   "outputs": [],
   "source": [
    "df6 = df5.copy()"
   ]
  },
  {
   "cell_type": "markdown",
   "id": "6b8b8c8e",
   "metadata": {
    "heading_collapsed": true,
    "hidden": true
   },
   "source": [
    "## 6.1. Split dataframe into Training and Test dataset"
   ]
  },
  {
   "cell_type": "code",
   "execution_count": null,
   "id": "bc19b425",
   "metadata": {
    "ExecuteTime": {
     "start_time": "2023-01-19T22:18:47.457Z"
    },
    "hidden": true
   },
   "outputs": [],
   "source": [
    "# removendo colunas que foram usadas para derivar outras colunas\n",
    "cols_drop = ['week_of_year', 'day', 'month', 'day_of_week', 'promo_since', 'competition_since', 'year_week']\n",
    "\n",
    "df6 = df6.drop(cols_drop, axis=1)"
   ]
  },
  {
   "cell_type": "code",
   "execution_count": null,
   "id": "117767ed",
   "metadata": {
    "ExecuteTime": {
     "start_time": "2023-01-19T22:18:47.459Z"
    },
    "hidden": true
   },
   "outputs": [],
   "source": [
    "# para teste: utilizar as ultimas 6 semanas até a data mais recente\n",
    "# para treino: utilizar o tempo anterior ao utilizado no teste\n",
    "df6[['store', 'date']].groupby('store').max().reset_index()['date'][0] - datetime.timedelta(days = 6*7)"
   ]
  },
  {
   "cell_type": "code",
   "execution_count": null,
   "id": "11e1ad61",
   "metadata": {
    "ExecuteTime": {
     "start_time": "2023-01-19T22:18:47.461Z"
    },
    "hidden": true
   },
   "outputs": [],
   "source": [
    "# training dataset\n",
    "X_train = df6[df6['date'] < '2015-06-19']\n",
    "y_train = X_train['sales']\n",
    "\n",
    "# testing dataset\n",
    "X_test = df6[df6['date'] >= '2015-06-19']\n",
    "y_test = X_test['sales']\n",
    "\n",
    "print('Training Min Date: {}'.format(X_train['date'].min()))\n",
    "print('Training Max Date: {}'.format(X_train['date'].max()))\n",
    "\n",
    "print('\\nTest Min Date: {}'.format(X_test['date'].min()))\n",
    "print('Test Max Date: {}'.format(X_test['date'].max()))"
   ]
  },
  {
   "cell_type": "markdown",
   "id": "db34857a",
   "metadata": {
    "hidden": true
   },
   "source": [
    "## 6.2. Boruta as Feature Selector"
   ]
  },
  {
   "cell_type": "code",
   "execution_count": null,
   "id": "e5a251c8",
   "metadata": {
    "ExecuteTime": {
     "start_time": "2023-01-19T22:18:47.466Z"
    },
    "hidden": true
   },
   "outputs": [],
   "source": [
    "## Training and Test dataset for Boruta\n",
    "#X_train_n = X_train.drop(['date', 'sales'], axis=1).values\n",
    "#y_train_n = y_train.values.ravel()\n",
    "\n",
    "## define Random Forest Regressor\n",
    "#rf = RandomForestRegressor(n_jobs=-3)\n",
    "\n",
    "## define Boruta\n",
    "#boruta = BorutaPy( rf, n_estimators='auto', verbose=2, random_state=42 ).fit( X_train_n, y_train_n )"
   ]
  },
  {
   "cell_type": "markdown",
   "id": "2e70e1ce",
   "metadata": {
    "hidden": true
   },
   "source": [
    "### 6.3.1. Best Features from Boruta"
   ]
  },
  {
   "cell_type": "code",
   "execution_count": null,
   "id": "6d55b7e5",
   "metadata": {
    "ExecuteTime": {
     "start_time": "2023-01-19T22:18:47.469Z"
    },
    "hidden": true
   },
   "outputs": [],
   "source": [
    "#cols_selected = boruta.support_.tolist()\n",
    "\n",
    "## best features\n",
    "#X_train_fs = X_train.drop( ['date', 'sales'], axis=1 )\n",
    "#cols_selected_boruta = X_train_fs.iloc[:, cols_selected]\n",
    "\n",
    "## not selected Boruta\n",
    "#cols_not_selected = np.setdiff1d( X_train_fs.columns, cols_selected_boruta )"
   ]
  },
  {
   "cell_type": "markdown",
   "id": "e2957b74",
   "metadata": {
    "heading_collapsed": true,
    "hidden": true
   },
   "source": [
    "## 6.3. Manual Feature Selection"
   ]
  },
  {
   "cell_type": "code",
   "execution_count": null,
   "id": "83e45f84",
   "metadata": {
    "ExecuteTime": {
     "start_time": "2023-01-19T22:18:47.472Z"
    },
    "hidden": true
   },
   "outputs": [],
   "source": [
    "cols_selected_boruta = [\n",
    "    'store',\n",
    "    'promo',\n",
    "    'store_type',\n",
    "    'assortment',\n",
    "    'competition_distance',\n",
    "    'competition_open_since_month',\n",
    "    'competition_open_since_year',\n",
    "    'promo2',\n",
    "    'promo2_since_week',\n",
    "    'promo2_since_year',\n",
    "    'competition_time_month',\n",
    "    'promo_time_week',\n",
    "    'day_of_week_sin',\n",
    "    'day_of_week_cos',\n",
    "    'month_sin',\n",
    "    'month_cos',\n",
    "    'day_sin',\n",
    "    'day_cos',\n",
    "    'week_of_year_sin',\n",
    "    'week_of_year_cos']\n",
    "\n",
    "# columns to add\n",
    "feat_to_add = ['date', 'sales']\n",
    "\n",
    "# final features\n",
    "cols_selected_boruta_full = cols_selected_boruta.copy()\n",
    "cols_selected_boruta_full.extend( feat_to_add )"
   ]
  },
  {
   "cell_type": "markdown",
   "id": "29508e80",
   "metadata": {
    "heading_collapsed": true
   },
   "source": [
    "# 7.0. MACHINE LEARNING MODELLING"
   ]
  },
  {
   "cell_type": "code",
   "execution_count": null,
   "id": "7f9a8454",
   "metadata": {
    "ExecuteTime": {
     "start_time": "2023-01-19T22:18:47.474Z"
    },
    "hidden": true
   },
   "outputs": [],
   "source": [
    "x_train = X_train[cols_selected_boruta]\n",
    "x_test = X_test[cols_selected_boruta]\n",
    "\n",
    "# Time series data preparation\n",
    "x_training = X_train[cols_selected_boruta_full]"
   ]
  },
  {
   "cell_type": "markdown",
   "id": "a16c645d",
   "metadata": {
    "hidden": true
   },
   "source": [
    "## 7.1. Average Model"
   ]
  },
  {
   "cell_type": "code",
   "execution_count": null,
   "id": "6c76cf96",
   "metadata": {
    "ExecuteTime": {
     "start_time": "2023-01-19T22:18:47.477Z"
    },
    "hidden": true
   },
   "outputs": [],
   "source": [
    "aux1 = x_test.copy()\n",
    "aux1['sales'] = y_test.copy()\n",
    "\n",
    "# prediction\n",
    "aux2 = aux1[['store', 'sales']].groupby('store').mean().reset_index().rename(columns = {'sales': 'predictions'})\n",
    "aux1 = pd.merge(aux1, aux2, how='left',  on='store')\n",
    "yhat_baseline = aux1['predictions']\n",
    "\n",
    "#performance (usa-se exponencial pois foi usado log nos dados(5.3.2.))\n",
    "baseline_result = ml_error('Average Model', np.expm1(y_test), np.expm1(yhat_baseline))\n",
    "\n",
    "baseline_result"
   ]
  },
  {
   "cell_type": "markdown",
   "id": "2315bfd5",
   "metadata": {
    "hidden": true
   },
   "source": [
    "## 7.2. Linear Regression Model"
   ]
  },
  {
   "cell_type": "code",
   "execution_count": null,
   "id": "2a85d4a4",
   "metadata": {
    "ExecuteTime": {
     "start_time": "2023-01-19T22:18:47.480Z"
    },
    "hidden": true
   },
   "outputs": [],
   "source": [
    "# model\n",
    "lr = LinearRegression().fit( x_train, y_train )\n",
    "\n",
    "# prediction\n",
    "yhat_lr = lr.predict( x_test )\n",
    "\n",
    "# performance\n",
    "lr_result = ml_error('Linear Regression', np.expm1(y_test), np.expm1(yhat_lr))\n",
    "\n",
    "lr_result"
   ]
  },
  {
   "cell_type": "markdown",
   "id": "50799d27",
   "metadata": {
    "heading_collapsed": true,
    "hidden": true
   },
   "source": [
    "### 7.2.1. Linear Regression Model - Cross Validation"
   ]
  },
  {
   "cell_type": "code",
   "execution_count": null,
   "id": "fd0d6321",
   "metadata": {
    "ExecuteTime": {
     "start_time": "2023-01-19T22:18:47.484Z"
    },
    "hidden": true
   },
   "outputs": [],
   "source": [
    "lr_result_cv = cross_validation (x_training, 5, 'Linear Regression', lr, verbose=False)\n",
    "lr_result_cv"
   ]
  },
  {
   "cell_type": "markdown",
   "id": "d2e83b54",
   "metadata": {
    "hidden": true
   },
   "source": [
    "## 7.3. Linear Regression Regularized Model - Lasso"
   ]
  },
  {
   "cell_type": "code",
   "execution_count": null,
   "id": "74efc8bc",
   "metadata": {
    "ExecuteTime": {
     "start_time": "2023-01-19T22:18:47.487Z"
    },
    "hidden": true,
    "scrolled": true
   },
   "outputs": [],
   "source": [
    "# model\n",
    "lrr = Lasso(alpha = 0.01).fit( x_train, y_train )\n",
    "\n",
    "# prediction\n",
    "yhat_lrr = lrr.predict( x_test )\n",
    "\n",
    "# performance\n",
    "lrr_result = ml_error('Linear Regression - Lasso', np.expm1(y_test), np.expm1(yhat_lrr))\n",
    "\n",
    "lrr_result"
   ]
  },
  {
   "cell_type": "markdown",
   "id": "655f02f6",
   "metadata": {
    "hidden": true
   },
   "source": [
    "### 7.3.1. Lasso - Cross Validation"
   ]
  },
  {
   "cell_type": "code",
   "execution_count": null,
   "id": "1ec88840",
   "metadata": {
    "ExecuteTime": {
     "start_time": "2023-01-19T22:18:47.490Z"
    },
    "hidden": true
   },
   "outputs": [],
   "source": [
    "lrr_result_cv = cross_validation (x_training, 5, 'Lasso', lrr, verbose=False)\n",
    "lrr_result_cv"
   ]
  },
  {
   "cell_type": "markdown",
   "id": "ec52ecdc",
   "metadata": {
    "hidden": true
   },
   "source": [
    "## 7.4. Random Forest Regressor"
   ]
  },
  {
   "cell_type": "code",
   "execution_count": null,
   "id": "181fc7ae",
   "metadata": {
    "ExecuteTime": {
     "start_time": "2023-01-19T22:18:47.492Z"
    },
    "hidden": true
   },
   "outputs": [],
   "source": [
    "# model\n",
    "rf = RandomForestRegressor( n_estimators = 100, n_jobs = -3, random_state = 42).fit( x_train, y_train )\n",
    "\n",
    "# prediction\n",
    "yhat_rf = rf.predict( x_test )\n",
    "\n",
    "# performance\n",
    "rf_result = ml_error('Random Forest Regressor', np.expm1(y_test), np.expm1(yhat_rf))\n",
    "\n",
    "rf_result"
   ]
  },
  {
   "cell_type": "markdown",
   "id": "1a18c568",
   "metadata": {
    "hidden": true
   },
   "source": [
    "### 7.4.1. Random Forest Regressor - Cross Validation"
   ]
  },
  {
   "cell_type": "code",
   "execution_count": null,
   "id": "aeb572f8",
   "metadata": {
    "ExecuteTime": {
     "start_time": "2023-01-19T22:18:47.496Z"
    },
    "hidden": true
   },
   "outputs": [],
   "source": [
    "rf_result_cv = cross_validation (x_training, 5, 'Random Forest Regressor', rf, verbose=True)\n",
    "rf_result_cv"
   ]
  },
  {
   "cell_type": "markdown",
   "id": "ae958b32",
   "metadata": {
    "heading_collapsed": true,
    "hidden": true
   },
   "source": [
    "## 7.5. XGBoost Regressor"
   ]
  },
  {
   "cell_type": "code",
   "execution_count": null,
   "id": "dbe7e2f0",
   "metadata": {
    "ExecuteTime": {
     "start_time": "2023-01-19T22:18:47.499Z"
    },
    "hidden": true
   },
   "outputs": [],
   "source": [
    "# model\n",
    "model_xgb = xgb.XGBRegressor( objective = 'reg:squarederror',\n",
    "                            n_estimators = 100,\n",
    "                            eta = 0.01,\n",
    "                            max_depth = 10,\n",
    "                            subsample = 0.07,\n",
    "                            colsample_bytree = 0.9).fit( x_train, y_train )\n",
    "\n",
    "# prediction\n",
    "yhat_xgb = model_xgb.predict( x_test )\n",
    "\n",
    "# performance\n",
    "xgb_result = ml_error('XGboost Regressor', np.expm1(y_test), np.expm1(yhat_xgb))\n",
    "\n",
    "xgb_result"
   ]
  },
  {
   "cell_type": "markdown",
   "id": "497af067",
   "metadata": {
    "heading_collapsed": true,
    "hidden": true
   },
   "source": [
    "### 7.5.1. XGBoost Regressor - Cross Validation"
   ]
  },
  {
   "cell_type": "code",
   "execution_count": null,
   "id": "60e150b7",
   "metadata": {
    "ExecuteTime": {
     "start_time": "2023-01-19T22:18:47.502Z"
    },
    "hidden": true
   },
   "outputs": [],
   "source": [
    "xgb_result_cv = cross_validation (x_training, 5, 'XGBoost Regressor', model_xgb, verbose=False)\n",
    "xgb_result_cv"
   ]
  },
  {
   "cell_type": "markdown",
   "id": "e29d95ca",
   "metadata": {
    "hidden": true
   },
   "source": [
    "## 7.6. CompareModel's Performance"
   ]
  },
  {
   "cell_type": "markdown",
   "id": "e2aa2d7e",
   "metadata": {
    "hidden": true
   },
   "source": [
    "### 7.6.1. Single Performance"
   ]
  },
  {
   "cell_type": "code",
   "execution_count": null,
   "id": "04ce2874",
   "metadata": {
    "ExecuteTime": {
     "start_time": "2023-01-19T22:18:47.505Z"
    },
    "hidden": true
   },
   "outputs": [],
   "source": [
    "modelling_result = pd.concat( [baseline_result, lr_result, lrr_result, rf_result, xgb_result ])\n",
    "modelling_result.sort_values('RMSE')\n"
   ]
  },
  {
   "cell_type": "markdown",
   "id": "7467c72f",
   "metadata": {
    "hidden": true
   },
   "source": [
    "### 7.6.2. Real Performance"
   ]
  },
  {
   "cell_type": "code",
   "execution_count": null,
   "id": "8fe75ea1",
   "metadata": {
    "ExecuteTime": {
     "start_time": "2023-01-19T22:18:47.508Z"
    },
    "hidden": true
   },
   "outputs": [],
   "source": [
    "modelling_result_cv = pd.concat( [lr_result_cv, lrr_result_cv, rf_result_cv, xgb_result_cv] )\n",
    "modelling_result_cv"
   ]
  },
  {
   "cell_type": "markdown",
   "id": "64dd9ba8",
   "metadata": {},
   "source": [
    "# 8.0. HYPERPARAMETER FINE TUNING"
   ]
  },
  {
   "cell_type": "markdown",
   "id": "50a11834",
   "metadata": {
    "heading_collapsed": true
   },
   "source": [
    "## 8.1. Random Search"
   ]
  },
  {
   "cell_type": "code",
   "execution_count": null,
   "id": "08b65cc7",
   "metadata": {
    "ExecuteTime": {
     "start_time": "2023-01-19T22:18:47.511Z"
    },
    "hidden": true
   },
   "outputs": [],
   "source": [
    "#param = { 'n_estimators': [1500, 1700, 2500, 3000, 3500],\n",
    "#          'eta': [0.01, 0.03, 0.1],\n",
    "#          'max_depth': [3, 5, 9],\n",
    "#          'subsample': [0.1, 0.5, 0.7],\n",
    "#          'colsample_bytree': [0.3, 0.7, 0.9],\n",
    "#          'min_child_weight': [3, 8, 15]\n",
    "#        }\n",
    "#\n",
    "#MAX_EVAL = 10"
   ]
  },
  {
   "cell_type": "code",
   "execution_count": null,
   "id": "ad0bedd5",
   "metadata": {
    "ExecuteTime": {
     "start_time": "2023-01-19T22:18:47.514Z"
    },
    "hidden": true
   },
   "outputs": [],
   "source": [
    "#final_result = pd.DataFrame()\n",
    "#\n",
    "#for i in range( MAX_EVAL ):\n",
    "#    # choose values for parameters randomly\n",
    "#    hp = {k: random.sample(v, 1)[0] for k, v in param.items()}\n",
    "#    print(hp)\n",
    "#    \n",
    "#    # model\n",
    "#    model_xgb = xgb.XGBRegressor( objective = 'reg:squarederror',\n",
    "#                                n_estimators = hp['n_estimators'],\n",
    "#                                eta = hp['eta'],\n",
    "#                                max_depth = hp['max_depth'],\n",
    "#                                subsample = hp['subsample'],\n",
    "#                                colsample_bytree = hp['colsample_bytree'],\n",
    "#                                min_child_weight = hp['min_child_weight'] )\n",
    "#\n",
    "#    # performance\n",
    "#    result = cross_validation (x_training, 2, 'XGBoost Regressor', model_xgb, verbose=False)\n",
    "#    final_result = pd.concat( [final_result, result])\n",
    "#    \n",
    "#final_result"
   ]
  },
  {
   "cell_type": "markdown",
   "id": "e490df03",
   "metadata": {},
   "source": [
    "## 8.2. Final Model"
   ]
  },
  {
   "cell_type": "code",
   "execution_count": null,
   "id": "14b3f939",
   "metadata": {
    "ExecuteTime": {
     "start_time": "2023-01-19T22:18:47.517Z"
    }
   },
   "outputs": [],
   "source": [
    "param_tuned = { 'n_estimators': 3500,\n",
    "                'eta': 0.03,\n",
    "                'max_depth': 9,\n",
    "                'subsample': 0.1,\n",
    "                'colsample_bytree': 0.7,\n",
    "                'min_child_weight': 3\n",
    "              }\n",
    "\n",
    "# model\n",
    "model_xgb_tuned = xgb.XGBRegressor( objective = 'reg:squarederror',\n",
    "                                    n_estimators = param_tuned['n_estimators'],\n",
    "                                    eta = param_tuned['eta'],\n",
    "                                    max_depth = param_tuned['max_depth'],\n",
    "                                    subsample = param_tuned['subsample'],\n",
    "                                    colsample_bytree = param_tuned['colsample_bytree'],\n",
    "                                    min_child_weight = param_tuned['min_child_weight']).fit( x_train, y_train )\n",
    "\n",
    "# prediction\n",
    "yhat_xgb_tuned = model_xgb_tuned.predict( x_test )\n",
    "\n",
    "# performance\n",
    "xgb_result_tuned = ml_error('XGboost Regressor', np.expm1(y_test), np.expm1(yhat_xgb_tuned))\n",
    "\n",
    "xgb_result_tuned"
   ]
  },
  {
   "cell_type": "code",
   "execution_count": null,
   "id": "84f584aa",
   "metadata": {
    "ExecuteTime": {
     "start_time": "2023-01-19T22:18:47.519Z"
    },
    "scrolled": true
   },
   "outputs": [],
   "source": [
    "xgb_result"
   ]
  },
  {
   "cell_type": "code",
   "execution_count": null,
   "id": "5304c94a",
   "metadata": {
    "ExecuteTime": {
     "start_time": "2023-01-19T22:18:47.521Z"
    }
   },
   "outputs": [],
   "source": [
    "mpe = mean_percentage_error( np.expm1( y_test ), np.expm1( yhat_xgb_tuned ) )\n",
    "mpe"
   ]
  },
  {
   "cell_type": "markdown",
   "id": "22b14a87",
   "metadata": {},
   "source": [
    "# 9.0. TRADUCAO E INTERPRETACAO DO ERRO"
   ]
  },
  {
   "cell_type": "code",
   "execution_count": null,
   "id": "da0f78b0",
   "metadata": {
    "ExecuteTime": {
     "start_time": "2023-01-19T22:18:47.524Z"
    }
   },
   "outputs": [],
   "source": [
    "df9 = X_test[cols_selected_boruta_full]\n",
    "\n",
    "# rescale\n",
    "df9['sales'] = np.expm1(df9['sales'])\n",
    "df9['predictions'] = np.expm1(yhat_xgb_tuned)"
   ]
  },
  {
   "cell_type": "markdown",
   "id": "6fc80b39",
   "metadata": {},
   "source": [
    "## 9.1. Business Performance"
   ]
  },
  {
   "cell_type": "code",
   "execution_count": null,
   "id": "c5d3144b",
   "metadata": {
    "ExecuteTime": {
     "start_time": "2023-01-19T22:18:47.527Z"
    },
    "scrolled": true
   },
   "outputs": [],
   "source": [
    "# sum of predictions\n",
    "df91 = df9[['store', 'sales', 'predictions']].groupby('store').sum().reset_index()\n",
    "\n",
    "# MAE and MAPE\n",
    "df9_aux2 = df9[['store', 'sales', 'predictions']].groupby('store').apply( lambda x:  mean_absolute_percentage_error(x['sales'], x['predictions'])).reset_index().rename(columns = {0:'MAPE'})\n",
    "#df9_aux1 = df9[['store', 'sales', 'predictions']].groupby('store').apply( lambda x:  mean_absolute_error(x['sales'], x['predictions'])).reset_index().rename(columns = {0:'MAE'})\n",
    "\n",
    "# merge\n",
    "#df9_aux3 = pd.merge(df9_aux1, df9_aux2, how='inner', on='store')\n",
    "df92 = pd.merge(df91, df9_aux2, how='inner', on='store')\n",
    "\n",
    "# scenarios\n",
    "df92['MAE'] = df92['predictions'] * df92['MAPE']\n",
    "df92['worst_scenario'] = df92['predictions'] - df92['MAE']\n",
    "df92['best_scenario'] = df92['predictions'] + df92['MAE']\n",
    "\n",
    "# order columns\n",
    "df92 = df92[['store', 'predictions', 'worst_scenario', 'best_scenario', 'MAE', 'MAPE']]\n",
    "df92 = df92"
   ]
  },
  {
   "cell_type": "code",
   "execution_count": null,
   "id": "bb75c134",
   "metadata": {
    "ExecuteTime": {
     "start_time": "2023-01-19T22:18:47.530Z"
    },
    "scrolled": true
   },
   "outputs": [],
   "source": [
    "df92.sort_values('MAPE', ascending = False).head()"
   ]
  },
  {
   "cell_type": "code",
   "execution_count": null,
   "id": "a79e8fc7",
   "metadata": {
    "ExecuteTime": {
     "start_time": "2023-01-19T22:18:47.532Z"
    }
   },
   "outputs": [],
   "source": [
    "sns.scatterplot(x='store', y='MAPE', data=df92)"
   ]
  },
  {
   "cell_type": "markdown",
   "id": "65f1ceec",
   "metadata": {},
   "source": [
    "## 9.2. Total Performance"
   ]
  },
  {
   "cell_type": "code",
   "execution_count": null,
   "id": "10daf5c3",
   "metadata": {
    "ExecuteTime": {
     "start_time": "2023-01-19T22:18:47.535Z"
    }
   },
   "outputs": [],
   "source": [
    "df93 = df92[['predictions', 'worst_scenario', 'best_scenario']].apply( lambda x: np.sum(x), axis=0 ).reset_index().rename( columns = {'index': 'scenarios', 0: 'values'})\n",
    "df93['values'] = df93['values'].map('R${:,.2f}'.format)\n",
    "df93"
   ]
  },
  {
   "cell_type": "code",
   "execution_count": null,
   "id": "2a15b2bf",
   "metadata": {
    "ExecuteTime": {
     "start_time": "2023-01-19T22:18:47.538Z"
    }
   },
   "outputs": [],
   "source": [
    "df9['sales'].sum()"
   ]
  },
  {
   "cell_type": "markdown",
   "id": "ef5fe96e",
   "metadata": {},
   "source": [
    "## 9.3. Machine Learning Performance"
   ]
  },
  {
   "cell_type": "code",
   "execution_count": null,
   "id": "ace4f338",
   "metadata": {},
   "outputs": [],
   "source": []
  }
 ],
 "metadata": {
  "kernelspec": {
   "display_name": "Python 3 (ipykernel)",
   "language": "python",
   "name": "python3"
  },
  "language_info": {
   "codemirror_mode": {
    "name": "ipython",
    "version": 3
   },
   "file_extension": ".py",
   "mimetype": "text/x-python",
   "name": "python",
   "nbconvert_exporter": "python",
   "pygments_lexer": "ipython3",
   "version": "3.10.4"
  }
 },
 "nbformat": 4,
 "nbformat_minor": 5
}
